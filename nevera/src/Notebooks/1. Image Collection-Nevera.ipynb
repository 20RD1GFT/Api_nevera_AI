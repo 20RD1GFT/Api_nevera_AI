{
 "cells": [
  {
   "cell_type": "markdown",
   "metadata": {},
   "source": [
    "# 1. Import Dependencies"
   ]
  },
  {
   "cell_type": "code",
   "execution_count": 1,
   "metadata": {},
   "outputs": [
    {
     "name": "stdout",
     "output_type": "stream",
     "text": [
      "Requirement already satisfied: opencv-python in c:\\users\\matm\\objectdetection\\tfod\\lib\\site-packages (4.5.4.60)\n",
      "Requirement already satisfied: numpy>=1.19.3 in c:\\users\\matm\\objectdetection\\tfod\\lib\\site-packages (from opencv-python) (1.21.4)\n"
     ]
    }
   ],
   "source": [
    "!pip install opencv-python"
   ]
  },
  {
   "cell_type": "code",
   "execution_count": 2,
   "metadata": {},
   "outputs": [],
   "source": [
    "# Import opencv\n",
    "import cv2 \n",
    "\n",
    "# Import uuid\n",
    "import uuid\n",
    "\n",
    "# Import Operating System\n",
    "import os\n",
    "\n",
    "# Import time\n",
    "import time"
   ]
  },
  {
   "cell_type": "markdown",
   "metadata": {},
   "source": [
    "# 2. Define Images to Collect"
   ]
  },
  {
   "cell_type": "code",
   "execution_count": 1,
   "metadata": {},
   "outputs": [],
   "source": [
    "labels = ['actimel', 'alpro', 'coca cola', 'florette', 'leche', 'schweppes', 'tomate']\n"
   ]
  },
  {
   "cell_type": "code",
   "execution_count": 2,
   "metadata": {},
   "outputs": [
    {
     "data": {
      "text/plain": [
       "['actimel', 'alpro', 'coca cola', 'florette', 'leche', 'schweppes', 'tomate']"
      ]
     },
     "execution_count": 2,
     "metadata": {},
     "output_type": "execute_result"
    }
   ],
   "source": [
    "labels"
   ]
  },
  {
   "cell_type": "markdown",
   "metadata": {},
   "source": [
    "# 5. Image Labelling"
   ]
  },
  {
   "cell_type": "code",
   "execution_count": 23,
   "metadata": {},
   "outputs": [
    {
     "name": "stdout",
     "output_type": "stream",
     "text": [
      "Requirement already satisfied: pyqt5 in c:\\users\\matm\\objectdetection\\tfod\\lib\\site-packages (5.15.6)\n",
      "Requirement already satisfied: lxml in c:\\users\\matm\\objectdetection\\tfod\\lib\\site-packages (4.6.4)\n",
      "Requirement already satisfied: PyQt5-Qt5>=5.15.2 in c:\\users\\matm\\objectdetection\\tfod\\lib\\site-packages (from pyqt5) (5.15.2)\n",
      "Requirement already satisfied: PyQt5-sip<13,>=12.8 in c:\\users\\matm\\objectdetection\\tfod\\lib\\site-packages (from pyqt5) (12.9.0)\n"
     ]
    }
   ],
   "source": [
    "!pip install --upgrade pyqt5 lxml"
   ]
  },
  {
   "cell_type": "code",
   "execution_count": 24,
   "metadata": {},
   "outputs": [
    {
     "name": "stdout",
     "output_type": "stream",
     "text": [
      "Package           Version\n",
      "----------------- --------\n",
      "backcall          0.2.0\n",
      "colorama          0.4.4\n",
      "debugpy           1.5.1\n",
      "decorator         5.1.0\n",
      "entrypoints       0.3\n",
      "ipykernel         6.5.1\n",
      "ipython           7.29.0\n",
      "jedi              0.18.1\n",
      "jupyter-client    7.1.0\n",
      "jupyter-core      4.9.1\n",
      "lxml              4.6.4\n",
      "matplotlib-inline 0.1.3\n",
      "nest-asyncio      1.5.1\n",
      "numpy             1.21.4\n",
      "opencv-python     4.5.4.60\n",
      "parso             0.8.2\n",
      "pickleshare       0.7.5\n",
      "pip               21.3.1\n",
      "prompt-toolkit    3.0.22\n",
      "Pygments          2.10.0\n",
      "PyQt5             5.15.6\n",
      "PyQt5-Qt5         5.15.2\n",
      "PyQt5-sip         12.9.0\n",
      "python-dateutil   2.8.2\n",
      "pywin32           302\n",
      "pyzmq             22.3.0\n",
      "setuptools        57.4.0\n",
      "six               1.16.0\n",
      "tornado           6.1\n",
      "traitlets         5.1.1\n",
      "wcwidth           0.2.5\n"
     ]
    }
   ],
   "source": [
    "!pip list"
   ]
  },
  {
   "cell_type": "code",
   "execution_count": 26,
   "metadata": {},
   "outputs": [],
   "source": [
    "LABELIMG_PATH = os.path.join('Tensorflow', 'labelimg')"
   ]
  },
  {
   "cell_type": "code",
   "execution_count": 27,
   "metadata": {},
   "outputs": [
    {
     "name": "stderr",
     "output_type": "stream",
     "text": [
      "Cloning into 'Tensorflow\\labelimg'...\n"
     ]
    }
   ],
   "source": [
    "if not os.path.exists(LABELIMG_PATH):\n",
    "    !mkdir {LABELIMG_PATH}\n",
    "    !git clone https://github.com/tzutalin/labelImg {LABELIMG_PATH}"
   ]
  },
  {
   "cell_type": "code",
   "execution_count": 28,
   "metadata": {},
   "outputs": [],
   "source": [
    "if os.name == 'posix':\n",
    "    !make qt5py3\n",
    "if os.name =='nt':\n",
    "    !cd {LABELIMG_PATH} && pyrcc5 -o libs/resources.py resources.qrc"
   ]
  },
  {
   "cell_type": "code",
   "execution_count": 29,
   "metadata": {},
   "outputs": [
    {
     "name": "stdout",
     "output_type": "stream",
     "text": [
      "Cancel creation.\n",
      "Image:C:\\Users\\matm\\ObjectDetection\\Tensorflow\\workspace\\images\\collectedimages\\livelong\\livelong.94cc0c31-4d13-11ec-b37d-4c1d96e536ec.jpg -> Annotation:C:/Users/matm/ObjectDetection/Tensorflow/workspace/images/collectedimages/livelong/livelong.94cc0c31-4d13-11ec-b37d-4c1d96e536ec.xml\n",
      "Image:C:\\Users\\matm\\ObjectDetection\\Tensorflow\\workspace\\images\\collectedimages\\livelong\\livelong.925dfd87-4d13-11ec-81a3-4c1d96e536ec.jpg -> Annotation:C:/Users/matm/ObjectDetection/Tensorflow/workspace/images/collectedimages/livelong/livelong.925dfd87-4d13-11ec-81a3-4c1d96e536ec.xml\n",
      "Image:C:\\Users\\matm\\ObjectDetection\\Tensorflow\\workspace\\images\\collectedimages\\livelong\\livelong.93936caa-4d13-11ec-9ef6-4c1d96e536ec.jpg -> Annotation:C:/Users/matm/ObjectDetection/Tensorflow/workspace/images/collectedimages/livelong/livelong.93936caa-4d13-11ec-9ef6-4c1d96e536ec.xml\n"
     ]
    },
    {
     "name": "stderr",
     "output_type": "stream",
     "text": [
      "C:\\Users\\matm\\ObjectDetection\\Tensorflow\\labelimg\\labelImg.py:971: DeprecationWarning: an integer is required (got type float).  Implicit conversion to integers using __int__ is deprecated, and may be removed in a future version of Python.\n",
      "  self.zoom_widget.setValue(value)\n",
      "C:\\Users\\matm\\ObjectDetection\\Tensorflow\\labelimg\\labelImg.py:1025: DeprecationWarning: an integer is required (got type float).  Implicit conversion to integers using __int__ is deprecated, and may be removed in a future version of Python.\n",
      "  h_bar.setValue(new_h_bar_value)\n",
      "C:\\Users\\matm\\ObjectDetection\\Tensorflow\\labelimg\\labelImg.py:1026: DeprecationWarning: an integer is required (got type float).  Implicit conversion to integers using __int__ is deprecated, and may be removed in a future version of Python.\n",
      "  v_bar.setValue(new_v_bar_value)\n",
      "C:\\Users\\matm\\ObjectDetection\\Tensorflow\\labelimg\\labelImg.py:965: DeprecationWarning: an integer is required (got type float).  Implicit conversion to integers using __int__ is deprecated, and may be removed in a future version of Python.\n",
      "  bar.setValue(bar.value() + bar.singleStep() * units)\n"
     ]
    },
    {
     "name": "stdout",
     "output_type": "stream",
     "text": [
      "Image:C:\\Users\\matm\\ObjectDetection\\Tensorflow\\workspace\\images\\collectedimages\\livelong\\livelong.96036724-4d13-11ec-8054-4c1d96e536ec.jpg -> Annotation:C:/Users/matm/ObjectDetection/Tensorflow/workspace/images/collectedimages/livelong/livelong.96036724-4d13-11ec-8054-4c1d96e536ec.xml\n",
      "Image:C:\\Users\\matm\\ObjectDetection\\Tensorflow\\workspace\\images\\collectedimages\\livelong\\livelong.97379083-4d13-11ec-bdb4-4c1d96e536ec.jpg -> Annotation:C:/Users/matm/ObjectDetection/Tensorflow/workspace/images/collectedimages/livelong/livelong.97379083-4d13-11ec-bdb4-4c1d96e536ec.xml\n",
      "Cancel creation.\n",
      "Image:C:\\Users\\matm\\ObjectDetection\\Tensorflow\\workspace\\images\\collectedimages\\thankyou\\thankyou.8a641e4d-4d13-11ec-84d1-4c1d96e536ec.jpg -> Annotation:C:/Users/matm/ObjectDetection/Tensorflow/workspace/images/collectedimages/thankyou/thankyou.8a641e4d-4d13-11ec-84d1-4c1d96e536ec.xml\n",
      "Image:C:\\Users\\matm\\ObjectDetection\\Tensorflow\\workspace\\images\\collectedimages\\thankyou\\thankyou.8b9b00ee-4d13-11ec-a2fa-4c1d96e536ec.jpg -> Annotation:C:/Users/matm/ObjectDetection/Tensorflow/workspace/images/collectedimages/thankyou/thankyou.8b9b00ee-4d13-11ec-a2fa-4c1d96e536ec.xml\n",
      "Image:C:\\Users\\matm\\ObjectDetection\\Tensorflow\\workspace\\images\\collectedimages\\thankyou\\thankyou.8cd4343a-4d13-11ec-807a-4c1d96e536ec.jpg -> Annotation:C:/Users/matm/ObjectDetection/Tensorflow/workspace/images/collectedimages/thankyou/thankyou.8cd4343a-4d13-11ec-807a-4c1d96e536ec.xml\n",
      "Cancel creation.\n",
      "Image:C:\\Users\\matm\\ObjectDetection\\Tensorflow\\workspace\\images\\collectedimages\\thankyou\\thankyou.87f7dabb-4d13-11ec-9d73-4c1d96e536ec.jpg -> Annotation:C:/Users/matm/ObjectDetection/Tensorflow/workspace/images/collectedimages/thankyou/thankyou.87f7dabb-4d13-11ec-9d73-4c1d96e536ec.xml\n",
      "Image:C:\\Users\\matm\\ObjectDetection\\Tensorflow\\workspace\\images\\collectedimages\\thankyou\\thankyou.892cf308-4d13-11ec-a02e-4c1d96e536ec.jpg -> Annotation:C:/Users/matm/ObjectDetection/Tensorflow/workspace/images/collectedimages/thankyou/thankyou.892cf308-4d13-11ec-a02e-4c1d96e536ec.xml\n",
      "Image:C:\\Users\\matm\\ObjectDetection\\Tensorflow\\workspace\\images\\collectedimages\\thumbsdown\\thumbsdown.27d00521-4d15-11ec-b41c-4c1d96e536ec.jpg -> Annotation:C:/Users/matm/ObjectDetection/Tensorflow/workspace/images/collectedimages/thumbsdown/thumbsdown.27d00521-4d15-11ec-b41c-4c1d96e536ec.xml\n",
      "Image:C:\\Users\\matm\\ObjectDetection\\Tensorflow\\workspace\\images\\collectedimages\\thumbsdown\\thumbsdown.255e8750-4d15-11ec-b49f-4c1d96e536ec.jpg -> Annotation:C:/Users/matm/ObjectDetection/Tensorflow/workspace/images/collectedimages/thumbsdown/thumbsdown.255e8750-4d15-11ec-b49f-4c1d96e536ec.xml\n",
      "Image:C:\\Users\\matm\\ObjectDetection\\Tensorflow\\workspace\\images\\collectedimages\\thumbsdown\\thumbsdown.2908b71e-4d15-11ec-a5c1-4c1d96e536ec.jpg -> Annotation:C:/Users/matm/ObjectDetection/Tensorflow/workspace/images/collectedimages/thumbsdown/thumbsdown.2908b71e-4d15-11ec-a5c1-4c1d96e536ec.xml\n",
      "Image:C:\\Users\\matm\\ObjectDetection\\Tensorflow\\workspace\\images\\collectedimages\\thumbsdown\\thumbsdown.26978b25-4d15-11ec-a57b-4c1d96e536ec.jpg -> Annotation:C:/Users/matm/ObjectDetection/Tensorflow/workspace/images/collectedimages/thumbsdown/thumbsdown.26978b25-4d15-11ec-a57b-4c1d96e536ec.xml\n",
      "Image:C:\\Users\\matm\\ObjectDetection\\Tensorflow\\workspace\\images\\collectedimages\\thumbsdown\\thumbsdown.81376e9a-4d13-11ec-a21c-4c1d96e536ec.jpg -> Annotation:C:/Users/matm/ObjectDetection/Tensorflow/workspace/images/collectedimages/thumbsdown/thumbsdown.81376e9a-4d13-11ec-a21c-4c1d96e536ec.xml\n",
      "Image:C:\\Users\\matm\\ObjectDetection\\Tensorflow\\workspace\\images\\collectedimages\\thumbsdown\\thumbsdown.242972ca-4d15-11ec-9236-4c1d96e536ec.jpg -> Annotation:C:/Users/matm/ObjectDetection/Tensorflow/workspace/images/collectedimages/thumbsdown/thumbsdown.242972ca-4d15-11ec-9236-4c1d96e536ec.xml\n",
      "Image:C:\\Users\\matm\\ObjectDetection\\Tensorflow\\workspace\\images\\collectedimages\\thumbsup\\thumbsup.1af5426b-4d15-11ec-ae79-4c1d96e536ec.jpg -> Annotation:C:/Users/matm/ObjectDetection/Tensorflow/workspace/images/collectedimages/thumbsup/thumbsup.1af5426b-4d15-11ec-ae79-4c1d96e536ec.xml\n",
      "Image:C:\\Users\\matm\\ObjectDetection\\Tensorflow\\workspace\\images\\collectedimages\\thumbsup\\thumbsup.1c2cf0e7-4d15-11ec-9d66-4c1d96e536ec.jpg -> Annotation:C:/Users/matm/ObjectDetection/Tensorflow/workspace/images/collectedimages/thumbsup/thumbsup.1c2cf0e7-4d15-11ec-9d66-4c1d96e536ec.xml\n",
      "Image:C:\\Users\\matm\\ObjectDetection\\Tensorflow\\workspace\\images\\collectedimages\\thumbsup\\thumbsup.1e9cd143-4d15-11ec-8d76-4c1d96e536ec.jpg -> Annotation:C:/Users/matm/ObjectDetection/Tensorflow/workspace/images/collectedimages/thumbsup/thumbsup.1e9cd143-4d15-11ec-8d76-4c1d96e536ec.xml\n",
      "Image:C:\\Users\\matm\\ObjectDetection\\Tensorflow\\workspace\\images\\collectedimages\\thumbsup\\thumbsup.19b9b45d-4d15-11ec-868c-4c1d96e536ec.jpg -> Annotation:C:/Users/matm/ObjectDetection/Tensorflow/workspace/images/collectedimages/thumbsup/thumbsup.19b9b45d-4d15-11ec-868c-4c1d96e536ec.xml\n",
      "Image:C:\\Users\\matm\\ObjectDetection\\Tensorflow\\workspace\\images\\collectedimages\\thumbsup\\thumbsup.744ebacd-4d13-11ec-9d41-4c1d96e536ec.jpg -> Annotation:C:/Users/matm/ObjectDetection/Tensorflow/workspace/images/collectedimages/thumbsup/thumbsup.744ebacd-4d13-11ec-9d41-4c1d96e536ec.xml\n",
      "Image:C:\\Users\\matm\\ObjectDetection\\Tensorflow\\workspace\\images\\collectedimages\\thumbsup\\thumbsup.7317dc57-4d13-11ec-98e1-4c1d96e536ec.jpg -> Annotation:C:/Users/matm/ObjectDetection/Tensorflow/workspace/images/collectedimages/thumbsup/thumbsup.7317dc57-4d13-11ec-98e1-4c1d96e536ec.xml\n",
      "Image:C:\\Users\\matm\\ObjectDetection\\Tensorflow\\workspace\\images\\collectedimages\\thumbsup\\thumbsup.758364ba-4d13-11ec-859c-4c1d96e536ec.jpg -> Annotation:C:/Users/matm/ObjectDetection/Tensorflow/workspace/images/collectedimages/thumbsup/thumbsup.758364ba-4d13-11ec-859c-4c1d96e536ec.xml\n"
     ]
    }
   ],
   "source": [
    "!cd {LABELIMG_PATH} && python labelImg.py"
   ]
  },
  {
   "cell_type": "markdown",
   "metadata": {},
   "source": [
    "# 6. Move them into a Training and Testing Partition"
   ]
  },
  {
   "cell_type": "markdown",
   "metadata": {},
   "source": [
    "# OPTIONAL - 7. Compress them for Colab Training"
   ]
  },
  {
   "cell_type": "code",
   "execution_count": 7,
   "metadata": {},
   "outputs": [],
   "source": [
    "TRAIN_PATH = os.path.join('Tensorflow', 'workspace', 'images2', 'train')\n",
    "TEST_PATH = os.path.join('Tensorflow', 'workspace', 'images2', 'test')\n",
    "ARCHIVE_PATH = os.path.join('Tensorflow', 'workspace', 'images2', 'archive.tar.gz')"
   ]
  },
  {
   "cell_type": "code",
   "execution_count": 8,
   "metadata": {},
   "outputs": [],
   "source": [
    "!tar -czf {ARCHIVE_PATH} {TRAIN_PATH} {TEST_PATH}"
   ]
  },
  {
   "cell_type": "code",
   "execution_count": null,
   "metadata": {},
   "outputs": [],
   "source": []
  }
 ],
 "metadata": {
  "kernelspec": {
   "display_name": "tfod",
   "language": "python",
   "name": "tfod"
  },
  "language_info": {
   "codemirror_mode": {
    "name": "ipython",
    "version": 3
   },
   "file_extension": ".py",
   "mimetype": "text/x-python",
   "name": "python",
   "nbconvert_exporter": "python",
   "pygments_lexer": "ipython3",
   "version": "3.9.7"
  }
 },
 "nbformat": 4,
 "nbformat_minor": 2
}
